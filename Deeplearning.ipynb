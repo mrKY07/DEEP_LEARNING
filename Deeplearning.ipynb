{
  "nbformat": 4,
  "nbformat_minor": 0,
  "metadata": {
    "colab": {
      "provenance": []
    },
    "kernelspec": {
      "name": "python3",
      "display_name": "Python 3"
    },
    "language_info": {
      "name": "python"
    }
  },
  "cells": [
    {
      "cell_type": "markdown",
      "source": [
        "# THEORETICAL QUESTION"
      ],
      "metadata": {
        "id": "Pek35Udvi1av"
      }
    },
    {
      "cell_type": "markdown",
      "source": [
        "1.What is TensorFlow 2.0, and how is it different from TensorFlow 1.x?\n",
        "\n",
        "TensorFlow 2.0 is an updated version of TensorFlow designed to be more user-friendly, pythonic, and eager-execution based. Unlike TensorFlow 1.x, which required defining static computational graphs first and then running sessions, TF 2.0 allows direct execution eager execution like normal Python code. It also integrates Keras as the high-level API, removes a lot of redundant APIs, and simplifies debugging."
      ],
      "metadata": {
        "id": "udKtq7jDjF8v"
      }
    },
    {
      "cell_type": "markdown",
      "source": [
        "2.How do you install TensorFlow 2.0?\n",
        "\n",
        "TensorFlow 2.0 can be installed using Python’s package manager pip. The installation command specifies the version of TensorFlow required. On systems like Google Colab, TensorFlow 2.x is often pre-installed, but locally you can install it with a command like pip install tensorflow==2.0.0. This ensures that you get the 2.0 release instead of the older 1.x version."
      ],
      "metadata": {
        "id": "gfp6I6UWlAX3"
      }
    },
    {
      "cell_type": "markdown",
      "source": [
        "3.What is the primary function of the tf.function in TensorFlow 2.0?\n",
        "\n",
        "tf.function is used to convert Python functions into TensorFlow graphs. This makes the function run faster by optimizing it as a graph instead of executing step by step in Python. For example, wrapping training steps inside @tf.function can speed up model training.\n",
        "\n"
      ],
      "metadata": {
        "id": "mz_9bMpRjSHu"
      }
    },
    {
      "cell_type": "markdown",
      "source": [
        "4.What is the purpose of the Model class in TensorFlow 2.0?\n",
        "\n",
        "The tf.keras.Model class is used to define and manage neural network models. It lets you structure layers, forward passes, and even custom training logic. It acts as the foundation for both prebuilt models and custom deep learning architectures."
      ],
      "metadata": {
        "id": "BG5cAK9aj1ku"
      }
    },
    {
      "cell_type": "markdown",
      "source": [
        "5.How do you create a neural network using TensorFlow 2.0?\n",
        "\n",
        "In TensorFlow 2.0, neural networks are created using the Keras API, which is tightly integrated into the framework. You can define a model using the Sequential class for simple layer-by-layer networks or the Model subclassing method for more complex architectures. Layers such as Dense, Convolutional, or Recurrent are stacked to form the network. After defining the network, it is compiled with an optimizer, loss function, and evaluation metrics, making it ready for training and prediction."
      ],
      "metadata": {
        "id": "MkJpZwwGlCbm"
      }
    },
    {
      "cell_type": "markdown",
      "source": [
        "6.What is the importance of Tensor Space in TensorFlow?\n",
        "\n",
        "Tensor space is the mathematical foundation of TensorFlow, where data is represented as tensors multi-dimensional arrays. It allows handling of scalars, vectors, matrices, and higher-dimensional data in a uniform way. This abstraction helps in efficient computation across CPUs, GPUs, and TPUs. By working in tensor space, TensorFlow can optimize linear algebra operations, which are the core of deep learning.\n",
        "\n"
      ],
      "metadata": {
        "id": "hRfxN1mElaTu"
      }
    },
    {
      "cell_type": "markdown",
      "source": [
        "7.How can TensorBoard be integrated with TensorFlow 2.0?\n",
        "\n",
        "TensorBoard is a visualization tool built into TensorFlow that helps monitor training. In TensorFlow 2.0, it can be integrated by adding callbacks during model training. It allows you to track metrics like loss and accuracy, visualize computational graphs, and compare model runs. This makes debugging and performance tuning much easier.\n",
        "\n"
      ],
      "metadata": {
        "id": "UAnGbr1yllbW"
      }
    },
    {
      "cell_type": "markdown",
      "source": [
        "8.What is the purpose of TensorFlow Playground?\n",
        "\n",
        "TensorFlow Playground is an interactive web tool that lets users experiment with neural networks directly in the browser. It is designed mainly for educational purposes, allowing you to tweak parameters like layers, neurons, activation functions, and learning rate to see how they affect learning. It helps beginners understand how neural networks work without coding.\n",
        "\n"
      ],
      "metadata": {
        "id": "Ji7CnNkplnCm"
      }
    },
    {
      "cell_type": "markdown",
      "source": [
        "9.What is Netron, and how is it useful for deep learning models?\n",
        "\n",
        "Netron is an open-source viewer for deep learning models. It can visualize models built in TensorFlow, PyTorch, Keras, ONNX, and many other formats. Its importance lies in helping developers inspect layer structures, shapes, and connections of models visually. This makes debugging and understanding complex architectures much easier.\n",
        "\n"
      ],
      "metadata": {
        "id": "IH3jyHkfloXW"
      }
    },
    {
      "cell_type": "markdown",
      "source": [
        "10.What is the difference between TensorFlow and PyTorch?\n",
        "\n",
        "Both are popular deep learning frameworks, but they differ in philosophy. TensorFlow is known for production readiness, scalability, and deployment tools like TensorFlow Lite and TensorFlow Serving. PyTorch, on the other hand, is praised for its flexibility, simplicity, and dynamic computation graphs, making it more research-friendly. In short: TensorFlow is often used in production, while PyTorch is favored in research and rapid prototyping."
      ],
      "metadata": {
        "id": "mUy_yn_mlpjf"
      }
    },
    {
      "cell_type": "markdown",
      "source": [
        "11.How do you install PyTorch?\n",
        "\n",
        "PyTorch can be installed using pip or conda depending on your environment. The installation command differs based on whether you want CPU-only or GPU support. For example, pip install torch torchvision torchaudio installs the latest version. On the official PyTorch website, you can generate the exact command based on your OS, package manager, and CUDA version.\n",
        "\n"
      ],
      "metadata": {
        "id": "clVg3CMdl1xt"
      }
    },
    {
      "cell_type": "markdown",
      "source": [
        "12.What is the basic structure of a PyTorch neural network?\n",
        "\n",
        "A PyTorch neural network typically has three parts:\n",
        "Model definition using torch.nn.Module, where layers like Linear, Conv, etc. are defined.\n",
        "Forward pass function, which defines how data flows through these layers.\n",
        "Training loop, where data is passed through the model, loss is calculated, and parameters are updated using an optimizer.\n",
        "\n"
      ],
      "metadata": {
        "id": "GxWPhg3dmPJ1"
      }
    },
    {
      "cell_type": "markdown",
      "source": [
        "13.What is the significance of tensors in PyTorch?\n",
        "\n",
        "Tensors are the core data structure in PyTorch, similar to NumPy arrays but with added support for GPU acceleration. They allow efficient storage and manipulation of multi-dimensional data like vectors, matrices, and higher-dimensional structures. Since deep learning involves a lot of linear algebra, tensors make computations fast and flexible.\n",
        "\n"
      ],
      "metadata": {
        "id": "Y9JvRNZxmQnN"
      }
    },
    {
      "cell_type": "markdown",
      "source": [
        "14.What is the difference between torch.Tensor and torch.cuda.Tensor in PyTorch?\n",
        "\n",
        "The torch.Tensor refers to a tensor stored in the CPU’s memory.\n",
        "torch.cuda.Tensor is a tensor stored on the GPU’s memory using CUDA.\n",
        "The difference is important because GPU tensors allow faster computation for deep learning tasks. You can move data between CPU and GPU using .to device or .cuda().\n",
        "\n"
      ],
      "metadata": {
        "id": "wHeGgaMImR8O"
      }
    },
    {
      "cell_type": "markdown",
      "source": [
        "15.What is the purpose of the torch.optim module in PyTorch?\n",
        "\n",
        "The torch.optim module provides optimization algorithms that update the weights of a model during training. Examples include SGD, Adam, and RMSprop. Instead of manually adjusting weights, optimizers automate the process using gradients from backpropagation. This makes training efficient and ensures the model converges to better performance."
      ],
      "metadata": {
        "id": "Y9gJL9tZmTt1"
      }
    },
    {
      "cell_type": "markdown",
      "source": [
        "16.What are some common activation functions used in neural networks?\n",
        "\n",
        "Activation functions introduce non-linearity into a neural network, allowing it to learn complex patterns. Common ones include:\n",
        "\n",
        "Sigmoid outputs between 0 and 1, useful for probabilities.\n",
        "\n",
        "ReLU Rectified Linear Unit, most widely used due to efficiency.\n",
        "\n",
        "Tanh outputs between -1 and 1, helps in centering data.\n",
        "\n",
        "Softmax converts outputs into probability distributions, useful for classification.\n",
        "\n"
      ],
      "metadata": {
        "id": "Gg8azF5ivDAy"
      }
    },
    {
      "cell_type": "markdown",
      "source": [
        "17.What is the difference between torch.nn.Module and torch.nn.Sequential in PyTorch?\n",
        "\n",
        "The torch.nn.Module is the base class for all PyTorch models. It allows defining custom architectures with flexible forward functions.\n",
        "torch.nn.Sequential is a simpler container where layers are stacked in order, and data flows sequentially.\n",
        "In short: nn.Module offers flexibility, while nn.Sequential is best for simple feedforward models.\n",
        "\n"
      ],
      "metadata": {
        "id": "qo9HUyXjvkED"
      }
    },
    {
      "cell_type": "markdown",
      "source": [
        "18.How can you monitor training progress in TensorFlow 2.0?\n",
        "\n",
        "Training progress in TensorFlow 2.0 can be monitored using TensorBoard, which visualizes metrics like accuracy, loss, and learning rate. Additionally, you can use callbacks such as ModelCheckpoint to save models and EarlyStopping to prevent overfitting. Printing logs after each epoch also provides real-time insights into model performance.\n",
        "\n"
      ],
      "metadata": {
        "id": "S_yBgBy2vlyT"
      }
    },
    {
      "cell_type": "markdown",
      "source": [
        "19.How does the Keras API fit into TensorFlow 2.0?\n",
        "\n",
        "In TensorFlow 2.0, Keras is the official high-level API. It simplifies building, training, and evaluating models using a user-friendly syntax. Keras integrates seamlessly with TensorFlow’s backend, meaning you can write simple models quickly but also have the option to extend them with TensorFlow’s lower-level operations.\n",
        "\n"
      ],
      "metadata": {
        "id": "3-hwNEhmvnSz"
      }
    },
    {
      "cell_type": "markdown",
      "source": [
        "20.What is an example of a deep learning project that can be implemented using TensorFlow 2.0?\n",
        "\n",
        "One example is a real-time image classification system. Using TensorFlow 2.0 with Keras, you can build a  Convolutional Neural Network to classify objects like cats, dogs, or cars. The project would involve loading a dataset e.g., CIFAR-10, preprocessing images, training the CNN, and deploying the model for predictions on new images.\n",
        "\n"
      ],
      "metadata": {
        "id": "sIMocKWTvo-s"
      }
    },
    {
      "cell_type": "markdown",
      "source": [
        "21.What is the main advantage of using pre-trained models in TensorFlow and PyTorch?\n",
        "\n",
        "The key advantage is transfer learning. Pre-trained models have already learned patterns from large datasets, so they save time and computational cost. Instead of training from scratch, you can fine-tune them for your own problem with less data. This improves performance, reduces overfitting, and speeds up development."
      ],
      "metadata": {
        "id": "q0G_a9dSvqGj"
      }
    },
    {
      "cell_type": "markdown",
      "source": [
        "# PRACTICAL QIESTIONS"
      ],
      "metadata": {
        "id": "JvXmK1D9vq6j"
      }
    },
    {
      "cell_type": "code",
      "source": [
        "# Install TensorFlow 2.x\n",
        "import tensorflow as tf\n",
        "\n"
      ],
      "metadata": {
        "id": "VcAIyb6DvxST"
      },
      "execution_count": 2,
      "outputs": []
    },
    {
      "cell_type": "code",
      "source": [
        "import tensorflow as tf\n",
        "\n",
        "# Define a function with tf.function\n",
        "@tf.function\n",
        "def add_numbers(x, y):\n",
        "    return x + y\n",
        "\n",
        "result = add_numbers(tf.constant(5), tf.constant(10))\n",
        "print(\"Addition:\", result.numpy())\n"
      ],
      "metadata": {
        "colab": {
          "base_uri": "https://localhost:8080/"
        },
        "id": "rSuHLORHwOt7",
        "outputId": "4f40df35-3032-4580-db12-40fa9d67bcf2"
      },
      "execution_count": 3,
      "outputs": [
        {
          "output_type": "stream",
          "name": "stdout",
          "text": [
            "Addition: 15\n"
          ]
        }
      ]
    },
    {
      "cell_type": "code",
      "source": [
        "import tensorflow as tf\n",
        "from tensorflow import keras\n",
        "\n",
        "# Simple NN\n",
        "model = keras.Sequential([\n",
        "    keras.layers.Dense(8, activation='relu', input_shape=(4,)),\n",
        "    keras.layers.Dense(1, activation='sigmoid')\n",
        "])\n",
        "\n",
        "model.compile(optimizer='adam', loss='binary_crossentropy', metrics=['accuracy'])\n",
        "\n",
        "print(\"Model Created Successfully!\")\n",
        "model.summary()\n"
      ],
      "metadata": {
        "colab": {
          "base_uri": "https://localhost:8080/",
          "height": 210
        },
        "id": "j7xnHn-4wUxr",
        "outputId": "97b2268e-5577-449e-e1f9-d7271f8be046"
      },
      "execution_count": 5,
      "outputs": [
        {
          "output_type": "stream",
          "name": "stdout",
          "text": [
            "Model Created Successfully!\n"
          ]
        },
        {
          "output_type": "display_data",
          "data": {
            "text/plain": [
              "\u001b[1mModel: \"sequential_1\"\u001b[0m\n"
            ],
            "text/html": [
              "<pre style=\"white-space:pre;overflow-x:auto;line-height:normal;font-family:Menlo,'DejaVu Sans Mono',consolas,'Courier New',monospace\"><span style=\"font-weight: bold\">Model: \"sequential_1\"</span>\n",
              "</pre>\n"
            ]
          },
          "metadata": {}
        },
        {
          "output_type": "display_data",
          "data": {
            "text/plain": [
              "┏━━━━━━━━━━━━━━━━━━━━━━━━━━━━━━━━━┳━━━━━━━━━━━━━━━━━━━━━━━━┳━━━━━━━━━━━━━━━┓\n",
              "┃\u001b[1m \u001b[0m\u001b[1mLayer (type)                   \u001b[0m\u001b[1m \u001b[0m┃\u001b[1m \u001b[0m\u001b[1mOutput Shape          \u001b[0m\u001b[1m \u001b[0m┃\u001b[1m \u001b[0m\u001b[1m      Param #\u001b[0m\u001b[1m \u001b[0m┃\n",
              "┡━━━━━━━━━━━━━━━━━━━━━━━━━━━━━━━━━╇━━━━━━━━━━━━━━━━━━━━━━━━╇━━━━━━━━━━━━━━━┩\n",
              "│ dense_2 (\u001b[38;5;33mDense\u001b[0m)                 │ (\u001b[38;5;45mNone\u001b[0m, \u001b[38;5;34m8\u001b[0m)              │            \u001b[38;5;34m40\u001b[0m │\n",
              "├─────────────────────────────────┼────────────────────────┼───────────────┤\n",
              "│ dense_3 (\u001b[38;5;33mDense\u001b[0m)                 │ (\u001b[38;5;45mNone\u001b[0m, \u001b[38;5;34m1\u001b[0m)              │             \u001b[38;5;34m9\u001b[0m │\n",
              "└─────────────────────────────────┴────────────────────────┴───────────────┘\n"
            ],
            "text/html": [
              "<pre style=\"white-space:pre;overflow-x:auto;line-height:normal;font-family:Menlo,'DejaVu Sans Mono',consolas,'Courier New',monospace\">┏━━━━━━━━━━━━━━━━━━━━━━━━━━━━━━━━━┳━━━━━━━━━━━━━━━━━━━━━━━━┳━━━━━━━━━━━━━━━┓\n",
              "┃<span style=\"font-weight: bold\"> Layer (type)                    </span>┃<span style=\"font-weight: bold\"> Output Shape           </span>┃<span style=\"font-weight: bold\">       Param # </span>┃\n",
              "┡━━━━━━━━━━━━━━━━━━━━━━━━━━━━━━━━━╇━━━━━━━━━━━━━━━━━━━━━━━━╇━━━━━━━━━━━━━━━┩\n",
              "│ dense_2 (<span style=\"color: #0087ff; text-decoration-color: #0087ff\">Dense</span>)                 │ (<span style=\"color: #00d7ff; text-decoration-color: #00d7ff\">None</span>, <span style=\"color: #00af00; text-decoration-color: #00af00\">8</span>)              │            <span style=\"color: #00af00; text-decoration-color: #00af00\">40</span> │\n",
              "├─────────────────────────────────┼────────────────────────┼───────────────┤\n",
              "│ dense_3 (<span style=\"color: #0087ff; text-decoration-color: #0087ff\">Dense</span>)                 │ (<span style=\"color: #00d7ff; text-decoration-color: #00d7ff\">None</span>, <span style=\"color: #00af00; text-decoration-color: #00af00\">1</span>)              │             <span style=\"color: #00af00; text-decoration-color: #00af00\">9</span> │\n",
              "└─────────────────────────────────┴────────────────────────┴───────────────┘\n",
              "</pre>\n"
            ]
          },
          "metadata": {}
        },
        {
          "output_type": "display_data",
          "data": {
            "text/plain": [
              "\u001b[1m Total params: \u001b[0m\u001b[38;5;34m49\u001b[0m (196.00 B)\n"
            ],
            "text/html": [
              "<pre style=\"white-space:pre;overflow-x:auto;line-height:normal;font-family:Menlo,'DejaVu Sans Mono',consolas,'Courier New',monospace\"><span style=\"font-weight: bold\"> Total params: </span><span style=\"color: #00af00; text-decoration-color: #00af00\">49</span> (196.00 B)\n",
              "</pre>\n"
            ]
          },
          "metadata": {}
        },
        {
          "output_type": "display_data",
          "data": {
            "text/plain": [
              "\u001b[1m Trainable params: \u001b[0m\u001b[38;5;34m49\u001b[0m (196.00 B)\n"
            ],
            "text/html": [
              "<pre style=\"white-space:pre;overflow-x:auto;line-height:normal;font-family:Menlo,'DejaVu Sans Mono',consolas,'Courier New',monospace\"><span style=\"font-weight: bold\"> Trainable params: </span><span style=\"color: #00af00; text-decoration-color: #00af00\">49</span> (196.00 B)\n",
              "</pre>\n"
            ]
          },
          "metadata": {}
        },
        {
          "output_type": "display_data",
          "data": {
            "text/plain": [
              "\u001b[1m Non-trainable params: \u001b[0m\u001b[38;5;34m0\u001b[0m (0.00 B)\n"
            ],
            "text/html": [
              "<pre style=\"white-space:pre;overflow-x:auto;line-height:normal;font-family:Menlo,'DejaVu Sans Mono',consolas,'Courier New',monospace\"><span style=\"font-weight: bold\"> Non-trainable params: </span><span style=\"color: #00af00; text-decoration-color: #00af00\">0</span> (0.00 B)\n",
              "</pre>\n"
            ]
          },
          "metadata": {}
        }
      ]
    },
    {
      "cell_type": "code",
      "source": [
        "import matplotlib.pyplot as plt\n",
        "import numpy as np\n",
        "\n",
        "X = np.random.rand(100, 4)\n",
        "y = np.random.randint(0, 2, size=(100,))\n",
        "\n",
        "history = model.fit(X, y, epochs=10, verbose=0)\n",
        "\n",
        "plt.plot(history.history['loss'], label='Training Loss')\n",
        "plt.plot(history.history['accuracy'], label='Training Accuracy')\n",
        "plt.xlabel(\"Epochs\")\n",
        "plt.ylabel(\"Value\")\n",
        "plt.legend()\n",
        "plt.title(\"Training Progress\")\n",
        "plt.show()\n"
      ],
      "metadata": {
        "colab": {
          "base_uri": "https://localhost:8080/",
          "height": 472
        },
        "id": "Z69X0vgzwcE7",
        "outputId": "ac85a269-1875-42bd-b86d-1f672f4a27af"
      },
      "execution_count": 6,
      "outputs": [
        {
          "output_type": "display_data",
          "data": {
            "text/plain": [
              "<Figure size 640x480 with 1 Axes>"
            ],
            "image/png": "[encoded data removed]"
          },
          "metadata": {}
        }
      ]
    },
    {
      "cell_type": "code",
      "source": [
        "!pip install torch torchvision torchaudio\n",
        "\n",
        "import torch\n",
        "print(\"PyTorch Version:\", torch.__version__)\n",
        "print(\"CUDA Available:\", torch.cuda.is_available())\n"
      ],
      "metadata": {
        "colab": {
          "base_uri": "https://localhost:8080/"
        },
        "id": "foEPmOMCwi00",
        "outputId": "bd8bae2f-80b2-4a5d-cf64-25ab00811bb9"
      },
      "execution_count": 7,
      "outputs": [
        {
          "output_type": "stream",
          "name": "stdout",
          "text": [
            "Requirement already satisfied: torch in /usr/local/lib/python3.12/dist-packages (2.8.0+cu126)\n",
            "Requirement already satisfied: torchvision in /usr/local/lib/python3.12/dist-packages (0.23.0+cu126)\n",
            "Requirement already satisfied: torchaudio in /usr/local/lib/python3.12/dist-packages (2.8.0+cu126)\n",
            "Requirement already satisfied: filelock in /usr/local/lib/python3.12/dist-packages (from torch) (3.19.1)\n",
            "Requirement already satisfied: typing-extensions>=4.10.0 in /usr/local/lib/python3.12/dist-packages (from torch) (4.14.1)\n",
            "Requirement already satisfied: setuptools in /usr/local/lib/python3.12/dist-packages (from torch) (75.2.0)\n",
            "Requirement already satisfied: sympy>=1.13.3 in /usr/local/lib/python3.12/dist-packages (from torch) (1.13.3)\n",
            "Requirement already satisfied: networkx in /usr/local/lib/python3.12/dist-packages (from torch) (3.5)\n",
            "Requirement already satisfied: jinja2 in /usr/local/lib/python3.12/dist-packages (from torch) (3.1.6)\n",
            "Requirement already satisfied: fsspec in /usr/local/lib/python3.12/dist-packages (from torch) (2025.3.0)\n",
            "Requirement already satisfied: nvidia-cuda-nvrtc-cu12==12.6.77 in /usr/local/lib/python3.12/dist-packages (from torch) (12.6.77)\n",
            "Requirement already satisfied: nvidia-cuda-runtime-cu12==12.6.77 in /usr/local/lib/python3.12/dist-packages (from torch) (12.6.77)\n",
            "Requirement already satisfied: nvidia-cuda-cupti-cu12==12.6.80 in /usr/local/lib/python3.12/dist-packages (from torch) (12.6.80)\n",
            "Requirement already satisfied: nvidia-cudnn-cu12==9.10.2.21 in /usr/local/lib/python3.12/dist-packages (from torch) (9.10.2.21)\n",
            "Requirement already satisfied: nvidia-cublas-cu12==12.6.4.1 in /usr/local/lib/python3.12/dist-packages (from torch) (12.6.4.1)\n",
            "Requirement already satisfied: nvidia-cufft-cu12==11.3.0.4 in /usr/local/lib/python3.12/dist-packages (from torch) (11.3.0.4)\n",
            "Requirement already satisfied: nvidia-curand-cu12==10.3.7.77 in /usr/local/lib/python3.12/dist-packages (from torch) (10.3.7.77)\n",
            "Requirement already satisfied: nvidia-cusolver-cu12==11.7.1.2 in /usr/local/lib/python3.12/dist-packages (from torch) (11.7.1.2)\n",
            "Requirement already satisfied: nvidia-cusparse-cu12==12.5.4.2 in /usr/local/lib/python3.12/dist-packages (from torch) (12.5.4.2)\n",
            "Requirement already satisfied: nvidia-cusparselt-cu12==0.7.1 in /usr/local/lib/python3.12/dist-packages (from torch) (0.7.1)\n",
            "Requirement already satisfied: nvidia-nccl-cu12==2.27.3 in /usr/local/lib/python3.12/dist-packages (from torch) (2.27.3)\n",
            "Requirement already satisfied: nvidia-nvtx-cu12==12.6.77 in /usr/local/lib/python3.12/dist-packages (from torch) (12.6.77)\n",
            "Requirement already satisfied: nvidia-nvjitlink-cu12==12.6.85 in /usr/local/lib/python3.12/dist-packages (from torch) (12.6.85)\n",
            "Requirement already satisfied: nvidia-cufile-cu12==1.11.1.6 in /usr/local/lib/python3.12/dist-packages (from torch) (1.11.1.6)\n",
            "Requirement already satisfied: triton==3.4.0 in /usr/local/lib/python3.12/dist-packages (from torch) (3.4.0)\n",
            "Requirement already satisfied: numpy in /usr/local/lib/python3.12/dist-packages (from torchvision) (2.0.2)\n",
            "Requirement already satisfied: pillow!=8.3.*,>=5.3.0 in /usr/local/lib/python3.12/dist-packages (from torchvision) (11.3.0)\n",
            "Requirement already satisfied: mpmath<1.4,>=1.1.0 in /usr/local/lib/python3.12/dist-packages (from sympy>=1.13.3->torch) (1.3.0)\n",
            "Requirement already satisfied: MarkupSafe>=2.0 in /usr/local/lib/python3.12/dist-packages (from jinja2->torch) (3.0.2)\n",
            "PyTorch Version: 2.8.0+cu126\n",
            "CUDA Available: False\n"
          ]
        }
      ]
    },
    {
      "cell_type": "code",
      "source": [
        "import torch\n",
        "import torch.nn as nn\n",
        "import torch.nn.functional as F\n",
        "\n",
        "class SimpleNN(nn.Module):\n",
        "    def __init__(self):\n",
        "        super(SimpleNN, self).__init__()\n",
        "        self.fc1 = nn.Linear(4, 8)\n",
        "        self.fc2 = nn.Linear(8, 1)\n",
        "\n",
        "    def forward(self, x):\n",
        "        x = F.relu(self.fc1(x))\n",
        "        x = torch.sigmoid(self.fc2(x))\n",
        "        return x\n",
        "\n",
        "model = SimpleNN()\n",
        "print(model)\n"
      ],
      "metadata": {
        "colab": {
          "base_uri": "https://localhost:8080/"
        },
        "id": "ypXdus9Uwl0F",
        "outputId": "e5806971-47ef-41ac-b257-f565df387c12"
      },
      "execution_count": 9,
      "outputs": [
        {
          "output_type": "stream",
          "name": "stdout",
          "text": [
            "SimpleNN(\n",
            "  (fc1): Linear(in_features=4, out_features=8, bias=True)\n",
            "  (fc2): Linear(in_features=8, out_features=1, bias=True)\n",
            ")\n"
          ]
        }
      ]
    },
    {
      "cell_type": "code",
      "source": [
        "import torch.optim as optim\n",
        "\n",
        "# Loss function\n",
        "loss_fn = nn.BCELoss()\n",
        "\n",
        "# Stochastic Gradient Descent\n",
        "optimizer = optim.SGD(model.parameters(), lr=0.01)\n",
        "\n",
        "print(\"Loss Function and Optimizer is Ready!\")\n"
      ],
      "metadata": {
        "colab": {
          "base_uri": "https://localhost:8080/"
        },
        "id": "uas9HI4kwvwN",
        "outputId": "38f99c5d-bdd3-46db-fd0d-7b6bdda5aa9b"
      },
      "execution_count": 11,
      "outputs": [
        {
          "output_type": "stream",
          "name": "stdout",
          "text": [
            "Loss Function and Optimizer is Ready!\n"
          ]
        }
      ]
    },
    {
      "cell_type": "code",
      "source": [
        "# MSE\n",
        "def custom_mse_loss(predictions, targets):\n",
        "    return torch.mean((predictions - targets) ** 2)\n",
        "\n",
        "y_pred = torch.tensor([0.8, 0.4, 0.2], requires_grad=True)\n",
        "y_true = torch.tensor([1.0, 0.0, 0.0])\n",
        "\n",
        "loss = custom_mse_loss(y_pred, y_true)\n",
        "print(\"Custom MSE Loss:\", loss.item())\n"
      ],
      "metadata": {
        "colab": {
          "base_uri": "https://localhost:8080/"
        },
        "id": "fS5pnk2ZxBvd",
        "outputId": "2e1383a6-3f0d-4cff-d9e3-19797fad4136"
      },
      "execution_count": 12,
      "outputs": [
        {
          "output_type": "stream",
          "name": "stdout",
          "text": [
            "Custom MSE Loss: 0.08000000566244125\n"
          ]
        }
      ]
    },
    {
      "cell_type": "code",
      "source": [
        "import tensorflow as tf\n",
        "from tensorflow import keras\n",
        "\n",
        "model = keras.Sequential([\n",
        "    keras.layers.Dense(8, activation='relu', input_shape=(4,)),\n",
        "    keras.layers.Dense(1, activation='sigmoid')\n",
        "])\n",
        "\n",
        "model.compile(optimizer='adam', loss='binary_crossentropy')\n",
        "\n",
        "model.save(\"my_model.h5\")\n",
        "print(\"Model Saved!\")\n",
        "\n",
        "loaded_model = keras.models.load_model(\"my_model.h5\")\n",
        "print(\"Model Loaded Successfully!\")\n"
      ],
      "metadata": {
        "colab": {
          "base_uri": "https://localhost:8080/"
        },
        "id": "gEzao7jmxBoU",
        "outputId": "b7cf94c2-7b42-44c8-f34c-e5a280dc7912"
      },
      "execution_count": 13,
      "outputs": [
        {
          "output_type": "stream",
          "name": "stderr",
          "text": [
            "/usr/local/lib/python3.12/dist-packages/keras/src/layers/core/dense.py:93: UserWarning: Do not pass an `input_shape`/`input_dim` argument to a layer. When using Sequential models, prefer using an `Input(shape)` object as the first layer in the model instead.\n",
            "  super().__init__(activity_regularizer=activity_regularizer, **kwargs)\n",
            "WARNING:absl:You are saving your model as an HDF5 file via `model.save()` or `keras.saving.save_model(model)`. This file format is considered legacy. We recommend using instead the native Keras format, e.g. `model.save('my_model.keras')` or `keras.saving.save_model(model, 'my_model.keras')`. \n",
            "WARNING:absl:Compiled the loaded model, but the compiled metrics have yet to be built. `model.compile_metrics` will be empty until you train or evaluate the model.\n"
          ]
        },
        {
          "output_type": "stream",
          "name": "stdout",
          "text": [
            "Model Saved!\n",
            "Model Loaded Successfully!\n"
          ]
        }
      ]
    }
  ]
}